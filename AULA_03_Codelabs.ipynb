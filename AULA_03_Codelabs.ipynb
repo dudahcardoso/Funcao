{
  "nbformat": 4,
  "nbformat_minor": 0,
  "metadata": {
    "colab": {
      "name": "AULA 03 - Codelabs.ipynb",
      "provenance": [],
      "authorship_tag": "ABX9TyNPlS21EQ5SqJjh5xz5+sjz",
      "include_colab_link": true
    },
    "kernelspec": {
      "name": "python3",
      "display_name": "Python 3"
    },
    "language_info": {
      "name": "python"
    }
  },
  "cells": [
    {
      "cell_type": "markdown",
      "metadata": {
        "id": "view-in-github",
        "colab_type": "text"
      },
      "source": [
        "<a href=\"https://colab.research.google.com/github/dudahcardoso/AULA03-Introducao_Python/blob/main/AULA_03_Codelabs.ipynb\" target=\"_parent\"><img src=\"https://colab.research.google.com/assets/colab-badge.svg\" alt=\"Open In Colab\"/></a>"
      ]
    },
    {
      "cell_type": "markdown",
      "metadata": {
        "id": "KS3Od_Tz5KA5"
      },
      "source": [
        "# **Exercício 1: \"E os 10% do garçom?**\n",
        "\n",
        "- Defina uma variável para o valor de uma refeição que custou R$ 42,54;\n",
        "\n",
        "- Defina uma variável para o valor da taxa de serviço que é de 10%;\n",
        "\n",
        "- Defina uma variável que calcula o valor total da conta e exiba-o no console.\n",
        "\n",
        "\n"
      ]
    },
    {
      "cell_type": "code",
      "metadata": {
        "colab": {
          "base_uri": "https://localhost:8080/"
        },
        "id": "snf1WDM08MUl",
        "outputId": "cba99987-5d07-4461-e970-8b40be6b3597"
      },
      "source": [
        "valor_refeicao = 42.54 # float\n",
        "valor_taxa = 10 # int\n",
        "\n",
        "resultado = valor_refeicao + valor_refeicao * (valor_taxa / 100) # float\n",
        "\n",
        "print(resultado)"
      ],
      "execution_count": null,
      "outputs": [
        {
          "output_type": "stream",
          "text": [
            "46.794\n"
          ],
          "name": "stdout"
        }
      ]
    },
    {
      "cell_type": "markdown",
      "metadata": {
        "id": "9k-RkiRQ8d0h"
      },
      "source": [
        "# **Como inserir o símbolo do cifrão ($) e como deixar duas casas decimais?**"
      ]
    },
    {
      "cell_type": "code",
      "metadata": {
        "colab": {
          "base_uri": "https://localhost:8080/"
        },
        "id": "q_o5QSAY8USe",
        "outputId": "c29f088c-0e84-45db-ec3a-343065fe5ff4"
      },
      "source": [
        "print(f\"R$ {resultado:.2f}\")"
      ],
      "execution_count": null,
      "outputs": [
        {
          "output_type": "stream",
          "text": [
            "R$ 46.79\n"
          ],
          "name": "stdout"
        }
      ]
    },
    {
      "cell_type": "markdown",
      "metadata": {
        "id": "6-piG1A49dMU"
      },
      "source": [
        "# **Exercício 2: \"Qual o valor do troco?**\n",
        "\n",
        "*   Defina uma variável para o valor de uma compra que custou R$100,98;\n",
        "\n",
        "*   Defina uma variável para o valor que o cliente pagou R$150,00;\n",
        "\n",
        "*   Defina uma variável que calcula o valor do troco e exiba-o no console com o valor final arredondado.\n",
        "\n",
        "\n",
        "\n",
        "\n"
      ]
    },
    {
      "cell_type": "code",
      "metadata": {
        "colab": {
          "base_uri": "https://localhost:8080/"
        },
        "id": "8coxWo1hWjNU",
        "outputId": "925a594b-bb07-4c9c-9629-4d3ec83265cd"
      },
      "source": [
        "valor_total = 100.98 # float\n",
        "valor_pago = 150.00 # float\n",
        "\n",
        "resultado = valor_pago - valor_total  # float\n",
        "\n",
        "print(f\"R$ {resultado:.2f}\")"
      ],
      "execution_count": null,
      "outputs": [
        {
          "output_type": "stream",
          "text": [
            "R$ 49.02\n"
          ],
          "name": "stdout"
        }
      ]
    },
    {
      "cell_type": "markdown",
      "metadata": {
        "id": "rp74y1FnjWSV"
      },
      "source": [
        "# **Exercício 3**: \"Você está na flor da idade?\"\n",
        "\n",
        "\n",
        "*  Defina uma variável para o valor do ano do nascimento;\n",
        "*  Defina uma variável para o valor do ano atual;\n",
        "*  Defina uma variável que calcula o valor final da idade da pessoa;\n",
        "*  Exiba uma mensagem final dizendo a idade da pessoa e a mensagem \"Você está na flor da idade\";"
      ]
    },
    {
      "cell_type": "code",
      "metadata": {
        "colab": {
          "base_uri": "https://localhost:8080/"
        },
        "id": "gI44Vpm9zMty",
        "outputId": "04a6534c-4101-4935-a9ce-00ff707e7091"
      },
      "source": [
        "ano_nascimento = 1991\n",
        "ano_atual = 2021\n",
        "\n",
        "idade = ano_atual - ano_nascimento\n",
        "print(\"Sua idade é:\",idade)\n",
        "print(\"Você está na florda idade!!!\")"
      ],
      "execution_count": null,
      "outputs": [
        {
          "output_type": "stream",
          "text": [
            "Sua idade é: 30\n",
            "Você está na florda idade!!!\n"
          ],
          "name": "stdout"
        }
      ]
    },
    {
      "cell_type": "markdown",
      "metadata": {
        "id": "J2TDQhfFXc88"
      },
      "source": [
        "# **Exercícios para treinar:**"
      ]
    },
    {
      "cell_type": "markdown",
      "metadata": {
        "id": "PAH0s3KLXh4k"
      },
      "source": [
        "1. **Frase na tela -** Implemente um programa que escreve na tela a frase \"O primeiro programa a gente nunca esquece!\".\n",
        "\n",
        "2. **Etiqueta - **Elabore um programa que escreve seu nome completo na primeira linha, seu endereço na segunda, e o CEP e telefone na terceira.\n",
        "\n",
        "3. **Letra de música - **Faça um programa que mostre na tela uma letra de música que você gosta (proibido letras do Justin Bieber).\n",
        "\n",
        "4. **Mensagem -** Escreva uma mensagem para uma pessoa de quem goste. Implemente um programa que imprima essa mensagem, tire um print e mande pra essa pessoa. Diga que foi um vírus que algum hacker instalou em seu computador.\n",
        "\n",
        "5. **Ao site -** Faça um programa que mostre na tela o que você deseja fazer usando seus conhecimentos de Python.\n",
        "\n",
        "6. **Quadrado -** Escrever um programa que mostre a seguinte figura:\n",
        "\n",
        "XXXXX\n",
        "X   X\n",
        "X   X\n",
        "X   X\n",
        "XXXXX\n",
        "\n",
        "7. **Tabela de notas -** Você foi contrato por uma escola pra fazer o sistema de boletim dos alunos. Como primeiro passo, escreva um programa que produza a seguinte saída:\n",
        "ALUNO(A)          NOTA\n",
        "=========         =====\n",
        "ALINE              9.0  \n",
        "MÁRIO              DEZ\n",
        "SÉRGIO             4.5    \n",
        "SHIRLEY            7.0\n",
        "\n",
        "8. **Letra grande -** Elabore um programa para produzir na tela a letra P, de Python Progressivo. Se fosse\n",
        "‘L’, seria assim:\n",
        "L\n",
        "L\n",
        "L\n",
        "LLLLL\n",
        "\n",
        "9. **Menu - **Elabore um programa que mostre o seguinte menu na tela:\n",
        "Cadastro de Clientes\n",
        "0 - Fim\n",
        "1 - Inclui\n",
        "2 - Altera\n",
        "3 - Exclui\n",
        "4 - Consulta\n",
        "Opção: \n",
        "\n",
        "10. **Pinheiro  -** Implemente um programa que desenhe um \"pinheiro\" na tela, similar ao abaixo.\n",
        "Enriqueça o desenho com outros caracteres, simulando enfeites.\n",
        "       X\n",
        "      XXX\n",
        "     XXXXX\n",
        "    XXXXXXX\n",
        "   XXXXXXXXX\n",
        "  XXXXXXXXXXX\n",
        " XXXXXXXXXXXXX\n",
        "XXXXXXXXXXXXXXX\n",
        "       XX\n",
        "       XX\n",
        "      XXXX"
      ]
    },
    {
      "cell_type": "code",
      "metadata": {
        "colab": {
          "base_uri": "https://localhost:8080/"
        },
        "id": "DtkSUkE3X2kX",
        "outputId": "8121f717-8604-41bc-bce9-a03690202224"
      },
      "source": [
        "#Exercício1\n",
        "print(\"O primeiro programa a gente nunca esquece!\")"
      ],
      "execution_count": null,
      "outputs": [
        {
          "output_type": "stream",
          "text": [
            "O primeiro programa a gente nunca esquece!\n"
          ],
          "name": "stdout"
        }
      ]
    },
    {
      "cell_type": "code",
      "metadata": {
        "colab": {
          "base_uri": "https://localhost:8080/"
        },
        "id": "flsRnr2PYBGj",
        "outputId": "fecce6c8-f443-4c59-8a28-034c75f3c540"
      },
      "source": [
        "#Exercicio2\n",
        "print(\"Maria Eduarda de Araújo Cardodo \")\n",
        "print(\"Rua: Dos bobos, número 0\")\n",
        "print(\"CEP: 000.000.000.-00 Telefone: 18272-432423\")\n"
      ],
      "execution_count": null,
      "outputs": [
        {
          "output_type": "stream",
          "text": [
            "Maria Eduarda de Araújo Cardodo \n",
            "Rua: Dos bobos, número 0\n",
            "CEP: 000.000.000.-00 Telefone: 18272-432423\n"
          ],
          "name": "stdout"
        }
      ]
    },
    {
      "cell_type": "code",
      "metadata": {
        "colab": {
          "base_uri": "https://localhost:8080/"
        },
        "id": "4ItGq3gWYr9O",
        "outputId": "36c24987-d642-42b0-e81c-506731acebbb"
      },
      "source": [
        "#Exercicio3\n",
        "print(\"AMOR E FÉ \\n To aqui na sua frente meio bagunçado \\n Cheguei com o volume do som topado\\n Lembrei do rolê domingo passado\\n Aí ‘cê’ lembra bem, nada é impossível\\n Tudo é invisível\\n Pra quem só olha pra si\\n Não é bem assim\\n É coisa de outro nível\\n Eu me acho incrível quando ‘cê’ olha pra mim -  E gosto assim\\n Ta pra nascer um maloqueiro disposto a soltar o dedo só por causa dela\\n Ai eu penso o tempo inteiro e até bate o desespero, o que sou eu sem ela\\n Eu danço com a nossa fumaça, me abraça no conversível, segura minha mão\\n Até o radar tirou uma foto e se ‘nóis’ tivesse de moto, não pegava não\")"
      ],
      "execution_count": null,
      "outputs": [
        {
          "output_type": "stream",
          "text": [
            "AMOR E FÉ \n",
            " To aqui na sua frente meio bagunçado \n",
            " Cheguei com o volume do som topado\n",
            " Lembrei do rolê domingo passado\n",
            " Aí ‘cê’ lembra bem, nada é impossível\n",
            " Tudo é invisível\n",
            " Pra quem só olha pra si\n",
            " Não é bem assim\n",
            " É coisa de outro nível\n",
            " Eu me acho incrível quando ‘cê’ olha pra mim -  E gosto assim\n",
            " Ta pra nascer um maloqueiro disposto a soltar o dedo só por causa dela\n",
            " Ai eu penso o tempo inteiro e até bate o desespero, o que sou eu sem ela\n",
            " Eu danço com a nossa fumaça, me abraça no conversível, segura minha mão\n",
            " Até o radar tirou uma foto e se ‘nóis’ tivesse de moto, não pegava não\n"
          ],
          "name": "stdout"
        }
      ]
    },
    {
      "cell_type": "code",
      "metadata": {
        "colab": {
          "base_uri": "https://localhost:8080/"
        },
        "id": "eTxztOvq9_YK",
        "outputId": "3afe830b-785a-4537-bf3c-3c94ed7bbc4d"
      },
      "source": [
        "#Exercicio4\n",
        "print('Oi amigo\\nEsta mensagem foi enviada por engano')"
      ],
      "execution_count": null,
      "outputs": [
        {
          "output_type": "stream",
          "text": [
            "Oi amigo\n",
            "Esta mensagem foi enviada por engano\n"
          ],
          "name": "stdout"
        }
      ]
    },
    {
      "cell_type": "code",
      "metadata": {
        "colab": {
          "base_uri": "https://localhost:8080/"
        },
        "id": "gvvjZFiL-WMU",
        "outputId": "d3cb862f-4d47-4a25-c9f3-6706dacf2e36"
      },
      "source": [
        "#Exercício5\n",
        "print ('Desejo criar diversos programas, tabelas, apps e scripts de resolução de problemas simples e complexos')\n"
      ],
      "execution_count": null,
      "outputs": [
        {
          "output_type": "stream",
          "text": [
            "Desejo criar diversos programas, tabelas, apps e scripts de resolução de problemas simples e complexos\n"
          ],
          "name": "stdout"
        }
      ]
    },
    {
      "cell_type": "code",
      "metadata": {
        "colab": {
          "base_uri": "https://localhost:8080/"
        },
        "id": "Kkv1-3Rj-dik",
        "outputId": "026d585a-2632-4781-bf87-aa4016f32179"
      },
      "source": [
        "#Exercício6\n",
        "print (\"XXXXX\\nX X\\nX X\\nX X\\nXXXXX\\n\")"
      ],
      "execution_count": null,
      "outputs": [
        {
          "output_type": "stream",
          "text": [
            "XXXXX\n",
            "X X\n",
            "X X\n",
            "X X\n",
            "XXXXX\n",
            "\n"
          ],
          "name": "stdout"
        }
      ]
    },
    {
      "cell_type": "code",
      "metadata": {
        "colab": {
          "base_uri": "https://localhost:8080/"
        },
        "id": "zYTmPwID_Jc6",
        "outputId": "e04ce607-adc9-46b1-dd91-076cd40c09a1"
      },
      "source": [
        "#Exercício7\n",
        "print ('ALUNO(A) NOTA\\n========= =====\\nALINE 9.0\\nMÁRIO DEZ\\nSÉRGIO 4.5\\nSHIRLEY 7.0\\n')"
      ],
      "execution_count": null,
      "outputs": [
        {
          "output_type": "stream",
          "text": [
            "ALUNO(A) NOTA\n",
            "========= =====\n",
            "ALINE 9.0\n",
            "MÁRIO DEZ\n",
            "SÉRGIO 4.5\n",
            "SHIRLEY 7.0\n",
            "\n"
          ],
          "name": "stdout"
        }
      ]
    },
    {
      "cell_type": "code",
      "metadata": {
        "colab": {
          "base_uri": "https://localhost:8080/"
        },
        "id": "JLNGYJ10_ToF",
        "outputId": "7a49ed0f-f340-427b-9dc0-ba82ad39fcb7"
      },
      "source": [
        "#Exercício8\n",
        "print ('PPPPPPPPPPP\\nPP PP\\nPP PP\\nPP PP\\nPP PP\\nPPPPPPPPP\\nPP\\nPP\\nPP\\nPP\\n\\n')\n"
      ],
      "execution_count": null,
      "outputs": [
        {
          "output_type": "stream",
          "text": [
            "PPPPPPPPPPP\n",
            "PP PP\n",
            "PP PP\n",
            "PP PP\n",
            "PP PP\n",
            "PPPPPPPPP\n",
            "PP\n",
            "PP\n",
            "PP\n",
            "PP\n",
            "\n",
            "\n"
          ],
          "name": "stdout"
        }
      ]
    },
    {
      "cell_type": "code",
      "metadata": {
        "colab": {
          "base_uri": "https://localhost:8080/"
        },
        "id": "X0p2nEjv_Yq7",
        "outputId": "e93cf944-ff46-400f-c76a-7060fa8721c0"
      },
      "source": [
        "#Exercício9\n",
        "print ('Cadastro de Clientes')\n",
        "print ('0 - Fim')\n",
        "print ('1 - Inclui')\n",
        "print ('2 - Altera')\n",
        "print ('3 - Exclui')\n",
        "print ('4 - Consulta')\n",
        "print ('Opção:\\n')"
      ],
      "execution_count": null,
      "outputs": [
        {
          "output_type": "stream",
          "text": [
            "Cadastro de Clientes\n",
            "0 - Fim\n",
            "1 - Inclui\n",
            "2 - Altera\n",
            "3 - Exclui\n",
            "4 - Consulta\n",
            "Opção:\n",
            "\n"
          ],
          "name": "stdout"
        }
      ]
    },
    {
      "cell_type": "code",
      "metadata": {
        "colab": {
          "base_uri": "https://localhost:8080/"
        },
        "id": "p_l3DfzX_e_W",
        "outputId": "3683d53b-c697-4ff7-a4d9-35cba6f80c69"
      },
      "source": [
        "#Exercicio10\n",
        "print (' X\\n XXX\\n XXXXX\\n XXXXXXX\\n XXXXXXXXX\\n XXXXXXXXXXX\\n XXXXXXXXXXXXX\\nXXXXXXXXXXXXXXX\\n XX\\n XX\\n XXXX\\n\\n')"
      ],
      "execution_count": null,
      "outputs": [
        {
          "output_type": "stream",
          "text": [
            " X\n",
            " XXX\n",
            " XXXXX\n",
            " XXXXXXX\n",
            " XXXXXXXXX\n",
            " XXXXXXXXXXX\n",
            " XXXXXXXXXXXXX\n",
            "XXXXXXXXXXXXXXX\n",
            " XX\n",
            " XX\n",
            " XXXX\n",
            "\n",
            "\n"
          ],
          "name": "stdout"
        }
      ]
    }
  ]
}