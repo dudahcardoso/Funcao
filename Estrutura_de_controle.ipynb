{
  "nbformat": 4,
  "nbformat_minor": 0,
  "metadata": {
    "colab": {
      "name": "Estrutura_de_controle.ipynb",
      "provenance": [],
      "authorship_tag": "ABX9TyMJxYbz4zkcZGXnr1VBfMyl",
      "include_colab_link": true
    },
    "kernelspec": {
      "name": "python3",
      "display_name": "Python 3"
    },
    "language_info": {
      "name": "python"
    }
  },
  "cells": [
    {
      "cell_type": "markdown",
      "metadata": {
        "id": "view-in-github",
        "colab_type": "text"
      },
      "source": [
        "<a href=\"https://colab.research.google.com/github/dudahcardoso/AULA_05_Estrutura_de_Controle/blob/main/Estrutura_de_controle.ipynb\" target=\"_parent\"><img src=\"https://colab.research.google.com/assets/colab-badge.svg\" alt=\"Open In Colab\"/></a>"
      ]
    },
    {
      "cell_type": "markdown",
      "metadata": {
        "id": "aEEENFXEbYxW"
      },
      "source": [
        "# **Estrutura de controle: Bloco com IF, ELSE**"
      ]
    },
    {
      "cell_type": "code",
      "metadata": {
        "colab": {
          "base_uri": "https://localhost:8080/"
        },
        "id": "azXPjP3Ebof6",
        "outputId": "c31cc62b-b3ed-4a5c-c3de-56db1397b317"
      },
      "source": [
        "nota = 8.0\n",
        "if nota < 7.0:\n",
        "  print(\"Aluno em recuperação\")\n",
        "else:\n",
        "  print(\"Aluno aprovado\")"
      ],
      "execution_count": null,
      "outputs": [
        {
          "output_type": "stream",
          "text": [
            "Aluno aprovado\n"
          ],
          "name": "stdout"
        }
      ]
    },
    {
      "cell_type": "markdown",
      "metadata": {
        "id": "d2xuA8MkcLVt"
      },
      "source": [
        "**Estrutura de controle: Bloco com IF,ELIF,ELSE**"
      ]
    },
    {
      "cell_type": "code",
      "metadata": {
        "colab": {
          "base_uri": "https://localhost:8080/"
        },
        "id": "L5Ng6Po6cM-o",
        "outputId": "c0f4fa49-e7ce-4ec6-dd37-5760a0e11bfd"
      },
      "source": [
        "nota = 6.0\n",
        "if nota >= 7.0:\n",
        "  print(\"Aluno Aprovado\")\n",
        "elif nota >= 4 and nota <7:\n",
        "  print(\"Aluno em recuperação\")\n",
        "else:\n",
        "  print(\"Aluno Reprovado\")"
      ],
      "execution_count": null,
      "outputs": [
        {
          "output_type": "stream",
          "text": [
            "Aluno em recuperação\n"
          ],
          "name": "stdout"
        }
      ]
    },
    {
      "cell_type": "markdown",
      "metadata": {
        "id": "FHv4wtaVcvI9"
      },
      "source": [
        "**Estrutura de controle: IFs aninhados**\n",
        "\n",
        "Exemplo:"
      ]
    },
    {
      "cell_type": "code",
      "metadata": {
        "colab": {
          "base_uri": "https://localhost:8080/"
        },
        "id": "3NUWFRgxc1ow",
        "outputId": "8d0b1966-e17c-4991-f8b5-297b814855bb"
      },
      "source": [
        "nota = 8.0\n",
        "if nota < 7.0:\n",
        "  if nota >= 5:\n",
        "      print(\"Aluno em recuperação\")\n",
        "  else:\n",
        "      print(\"Aluno Reprovado\")\n",
        "else:\n",
        "      print(\"Aluno Aprovado\")"
      ],
      "execution_count": null,
      "outputs": [
        {
          "output_type": "stream",
          "text": [
            "Aluno Reprovado\n"
          ],
          "name": "stdout"
        }
      ]
    },
    {
      "cell_type": "markdown",
      "metadata": {
        "id": "0Oj-TUPz7zTu"
      },
      "source": [
        "# **Exercício 1**\n",
        "Resultado da primeira/segunda aula em Python:\n",
        "\n",
        "*   Escreva um programa que receba uma string digitada pelo usuário;\n",
        "*   Caso a string seja \"medieval\", exiba no console \"espada\";\n",
        "*   Caso contrário, se a string for \"futurista\", exiba no console \"sabre de luz\";\n",
        "*   Caso contrário, exiba no console \"Tente novamente\"\n",
        "\n",
        "\n",
        "\n"
      ]
    },
    {
      "cell_type": "code",
      "metadata": {
        "colab": {
          "base_uri": "https://localhost:8080/"
        },
        "id": "-SKYX01i7pW0",
        "outputId": "94b073c1-c9e7-457e-a9ae-574c35485552"
      },
      "source": [
        "frase = input (\"Digite uma palavra: medieval // futurista // palavra a sua escolha: \")\n",
        "\n",
        "if (frase == 'medieval'):\n",
        "  print(\"ESPADA\")\n",
        "elif(frase == 'futurista'):\n",
        "  print('SABRE DE LUZ')\n",
        "else:\n",
        "  print('Tente novamente')"
      ],
      "execution_count": null,
      "outputs": [
        {
          "output_type": "stream",
          "text": [
            "Digite uma palavra: medieval // futurista // palavra a sua escolha: huhu\n",
            "Tente novamente\n"
          ],
          "name": "stdout"
        }
      ]
    },
    {
      "cell_type": "markdown",
      "metadata": {
        "id": "jIUDP3FqvO90"
      },
      "source": [
        "# **Exercício 2**\n",
        "\n",
        "* Escreva um programa que receba um ataque de espada ou sabre digitada pelo usuário;\n",
        "\n",
        "* Caso o ataque seja \"espada\", exiba no console \"VOCÊ AINDA NÃO MATOU O CHEFÃO\";\n",
        "\n",
        "* Caso contrário, se o ataque for \"sabre\", exiba no console \"VOCÊ DERROTOU O CHEFÃO COM O SABRE DE LUZ\";\n",
        "\n",
        "* Caso contrário, exiba no console \"ATAQUE NOVAMENTE\"\n",
        "\n",
        "\n",
        "\n"
      ]
    },
    {
      "cell_type": "code",
      "metadata": {
        "colab": {
          "base_uri": "https://localhost:8080/"
        },
        "id": "HlL0TMmnv9Ox",
        "outputId": "c59fc42b-26ba-4ddd-f0ad-97e9f5b23f08"
      },
      "source": [
        "ataque = input (\"Escolha seu ataque: espada ou sabre \")\n",
        "\n",
        "if (ataque == 'espada'):\n",
        "  print('VOCÊ AINDA NÃO MATOU O CHEFÃO')\n",
        "elif(ataque == 'sabre'):\n",
        "  print('VOCÊ DERROTOU O CHEFÃO COM O SABRE DE LUZ')\n",
        "else:\n",
        "  print('ATAQUE NOVAMENTE')"
      ],
      "execution_count": null,
      "outputs": [
        {
          "output_type": "stream",
          "text": [
            "Escolha seu ataque: espada ou sabre dedo\n",
            "ATAQUE NOVAMENTE\n"
          ],
          "name": "stdout"
        }
      ]
    },
    {
      "cell_type": "markdown",
      "metadata": {
        "id": "8JyCDujb5bdy"
      },
      "source": [
        "# **Exercício para treinar**"
      ]
    },
    {
      "cell_type": "markdown",
      "metadata": {
        "id": "VOpSoeFn8lO1"
      },
      "source": [
        "**Exercício 1:** \"Faça um Programa que leia três números inteiros, em seguida mostre o maior e o menor deles.\""
      ]
    },
    {
      "cell_type": "code",
      "metadata": {
        "colab": {
          "base_uri": "https://localhost:8080/"
        },
        "id": "aQ48jMRe9V9y",
        "outputId": "38ede6f4-2061-42f2-f58f-9917658b2596"
      },
      "source": [
        "primeiro = int(input('Primeiro numero: '))\n",
        "segundo  = int(input('Segundo numero : '))\n",
        "terceiro = int(input('Terceiro numero: '))\n",
        "\n",
        "# Achando o maior número\n",
        "maior = primeiro\n",
        "\n",
        "if (segundo > maior):\n",
        "  maior = segundo\n",
        "  if (terceiro > maior):\n",
        "    maior = terceiro\n",
        "    print('Maior: ',maior)\n",
        "\n",
        "    # Achando o menor número\n",
        "    menor = primeiro\n",
        "\n",
        "    if (segundo < menor):\n",
        "        menor = segundo\n",
        "    if (terceiro < menor):\n",
        "        menor = terceiro\n",
        "\n",
        "    print('Menor: ',menor)\n"
      ],
      "execution_count": 8,
      "outputs": [
        {
          "output_type": "stream",
          "text": [
            "Primeiro numero: 5\n",
            "Segundo numero : 8\n",
            "Terceiro numero: 10\n",
            "Maior:  10\n",
            "Menor:  5\n"
          ],
          "name": "stdout"
        }
      ]
    },
    {
      "cell_type": "markdown",
      "metadata": {
        "id": "opeqWzZ7-DOD"
      },
      "source": [
        "**Exercício 2 -** Faça um programa que peça dois números e imprima o maior deles.\n"
      ]
    },
    {
      "cell_type": "code",
      "metadata": {
        "colab": {
          "base_uri": "https://localhost:8080/"
        },
        "id": "AyfPKWmf-H1v",
        "outputId": "e5532436-8bfd-443b-df18-8d8e5248ee22"
      },
      "source": [
        "num1=int( input('Digite o primeiro numero: ') )\n",
        "num2=int( input('Digite o segundo numero: ') )\n",
        "\n",
        "if num1 > num2 :\n",
        "    print('O primeiro, %d, é maior' %num1)\n",
        "else:\n",
        "    if num1 == num2 :\n",
        "        print('Os números são iguais')\n",
        "    else:\n",
        "        print('O segundo, %d, é maior' %num2)"
      ],
      "execution_count": 9,
      "outputs": [
        {
          "output_type": "stream",
          "text": [
            "Digite o primeiro numero: 4\n",
            "Digite o segundo numero: 6\n",
            "O segundo, 6, é maior\n"
          ],
          "name": "stdout"
        }
      ]
    },
    {
      "cell_type": "markdown",
      "metadata": {
        "id": "00liGxjv-N42"
      },
      "source": [
        "**Exercício 3 -** Faça um script que peça um valor e mostre na tela se o valor é positivo ou negativo."
      ]
    },
    {
      "cell_type": "code",
      "metadata": {
        "colab": {
          "base_uri": "https://localhost:8080/"
        },
        "id": "CpEwIEiG-TSN",
        "outputId": "0a52a89e-94d9-4e7a-981a-be145b354a91"
      },
      "source": [
        "num=int( input('Digite um numero: ') )\n",
        "\n",
        "if num > 0 :\n",
        "    print('Positivo')\n",
        "else:\n",
        "    if num == 0 :\n",
        "        print('Nem positivo nem negativo, é 0')\n",
        "    else:\n",
        "        print('Negativo')"
      ],
      "execution_count": 10,
      "outputs": [
        {
          "output_type": "stream",
          "text": [
            "Digite um numero: 4\n",
            "Positivo\n"
          ],
          "name": "stdout"
        }
      ]
    },
    {
      "cell_type": "markdown",
      "metadata": {
        "id": "Wg75_hlq-XCe"
      },
      "source": [
        "**Exercício 4 -** Crie um programa que verifique se uma letra digitada é \"F\" ou \"M\". Conforme a letra escrever: F - Feminino, M - Masculino, Sexo Inválido."
      ]
    },
    {
      "cell_type": "code",
      "metadata": {
        "colab": {
          "base_uri": "https://localhost:8080/"
        },
        "id": "kil8ktrW-cb2",
        "outputId": "677c0e22-5545-4779-9b06-91c7e8c92800"
      },
      "source": [
        "resposta=input('M ou F: ')\n",
        "\n",
        "if resposta == 'M':\n",
        "    print('Masculina')\n",
        "else:\n",
        "    if resposta == 'F':\n",
        "          print('Feminina')\n",
        "    else:\n",
        "        print('Você não digitou M ou F')"
      ],
      "execution_count": 12,
      "outputs": [
        {
          "output_type": "stream",
          "text": [
            "M ou F: M\n",
            "Masculina\n"
          ],
          "name": "stdout"
        }
      ]
    },
    {
      "cell_type": "markdown",
      "metadata": {
        "id": "2ftVMx-W-wBg"
      },
      "source": [
        "**Exercício 5 -** Crie um programa em Python que peça a nota do aluno, que deve ser um float entre 0.00 e 10.0\n",
        "\n",
        "* Se a nota for menor que 6.0, deve exibir a nota F.\n",
        "\n",
        "* Se a nota for de 6.0 até 7.0, deve exibir a nota D.\n",
        "\n",
        "* Se a nota for entre 7.0 e 8.0, deve exibir a nota C.\n",
        "\n",
        "* Se a nota for entre 8.0 e 9.0, deve exibir a nota B.\n",
        "\n",
        "* Por fim, se for entre 9.0 e 10.0, deve exibir um belo de um A."
      ]
    },
    {
      "cell_type": "code",
      "metadata": {
        "colab": {
          "base_uri": "https://localhost:8080/"
        },
        "id": "-vn4Y7p2-usJ",
        "outputId": "5f152fdf-f210-46d8-842b-e710806f4abb"
      },
      "source": [
        "resposta=float(input('Qual a nota [0.0 - 10.0]: '))\n",
        "\n",
        "if resposta < 6.0:\n",
        "    print('Nota F')\n",
        "elif resposta < 7.0:\n",
        "    print('Nota D')\n",
        "elif resposta < 8.0:\n",
        "    print('Nota C')\n",
        "elif resposta < 9.0:\n",
        "    print('Nota B')\n",
        "else:\n",
        "    print('Nota A')"
      ],
      "execution_count": 13,
      "outputs": [
        {
          "output_type": "stream",
          "text": [
            "Qual a nota [0.0 - 10.0]: 7\n",
            "Nota C\n"
          ],
          "name": "stdout"
        }
      ]
    },
    {
      "cell_type": "markdown",
      "metadata": {
        "id": "KSnHGqYI_hNL"
      },
      "source": [
        "**Exercício 6 -** Faça um Programa que verifique se uma letra digitada é vogal ou consoante."
      ]
    },
    {
      "cell_type": "code",
      "metadata": {
        "colab": {
          "base_uri": "https://localhost:8080/"
        },
        "id": "XAslGjwl_mJY",
        "outputId": "88e909a4-a873-49b5-c8fe-1d31c1ac42a7"
      },
      "source": [
        "char=input('Digite um caractere: ')\n",
        "\n",
        "if char=='a' or char=='e' or char=='i' or char=='o' or char=='u' or char=='A' or char=='E' or char=='I' or char=='O' or char=='U':\n",
        "  print('Vogal')\n",
        "else:\n",
        "  print('Consoante')"
      ],
      "execution_count": 18,
      "outputs": [
        {
          "output_type": "stream",
          "text": [
            "Digite um caractere: e\n",
            "Vogal\n"
          ],
          "name": "stdout"
        }
      ]
    },
    {
      "cell_type": "markdown",
      "metadata": {
        "id": "rH7ZNVKxANaW"
      },
      "source": [
        "# **DESAFIO** - As empresas @.com resolveram dar um aumento de salário aos seus colaboradores e lhe contrataram para desenvolver o programa que calculará os reajustes.\n",
        "\n",
        "Faça um programa que recebe o salário de um colaborador e o reajuste segundo o seguinte critério, baseado no salário atual:\n",
        "* salários até R$ 280,00 (incluindo) : aumento de 20%\n",
        "\n",
        "* salários entre R\\$ 280,00 e R$ 700,00 : aumento de 15%\n",
        "\n",
        "* salários entre R\\$ 700,00 e R$ 1500,00 : aumento de 10%\n",
        "\n",
        "* salários de R$ 1500,00 em diante : aumento de 5% \n",
        "\n",
        "Após o aumento ser realizado, informe na tela:\n",
        "* o salário antes do reajuste;\n",
        "\n",
        "* o percentual de aumento aplicado;\n",
        "\n",
        "* o valor do aumento;\n",
        "\n",
        "* o novo salário, após o aumento.\""
      ]
    },
    {
      "cell_type": "code",
      "metadata": {
        "colab": {
          "base_uri": "https://localhost:8080/"
        },
        "id": "zdC6xtIJAgee",
        "outputId": "2778308d-de87-4a86-9a41-1f3ec5fea49b"
      },
      "source": [
        "salario = float(input('Salário do colaborador: '))\n",
        "\n",
        "if (salario <= 280):\n",
        "  percentual = 20  \n",
        "elif (salario <= 700):\n",
        "  percentual = 15\n",
        "elif (salario <= 1500):\n",
        "  percentual = 10\n",
        "else:\n",
        "  percentual = 5\n",
        "\n",
        "print('Salario original: R$ ', salario)\n",
        "print('Percentual: ',percentual,'%')\n",
        "\n",
        "percentual = percentual/100.0\n",
        "aumento = percentual * salario\n",
        "novo_salario = salario + aumento\n",
        "     \n",
        "print('Aumento: R$ ',aumento)\n",
        "print('Novo salário: R$ ', novo_salario)"
      ],
      "execution_count": 24,
      "outputs": [
        {
          "output_type": "stream",
          "text": [
            "Salário do colaborador: 300\n",
            "Salario original: R$  300.0\n",
            "Percentual:  15 %\n",
            "Aumento: R$  45.0\n",
            "Novo salário: R$  345.0\n"
          ],
          "name": "stdout"
        }
      ]
    },
    {
      "cell_type": "markdown",
      "metadata": {
        "id": "rO5F83bgBXcm"
      },
      "source": [
        " Faça um Programa para um caixa eletrônico. O programa deverá perguntar ao usuário a valor do saque e depois informar quantas notas de cada valor serão fornecidas. As notas disponíveis serão as de 1, 5, 10, 50 e 100 reais. O valor mínimo é de 10 reais e o máximo de 600 reais. O programa não deve se preocupar com a quantidade de notas existentes na máquina.\n",
        "\n",
        "* Exemplo 1: Para sacar a quantia de 256 reais, o programa fornece duas notas de 100, uma nota de 50, uma nota de 5 e uma nota de 1;\n",
        "\n",
        "* Exemplo 2: Para sacar a quantia de 399 reais, o programa fornece três notas de 100, uma nota de 50, quatro notas de 10, uma nota de 5 e quatro notas de 1."
      ]
    },
    {
      "cell_type": "code",
      "metadata": {
        "colab": {
          "base_uri": "https://localhost:8080/"
        },
        "id": "7fueUbxeBelC",
        "outputId": "27c1f4b0-0982-44c9-9f57-99dc3ffd4e00"
      },
      "source": [
        "numero = int(input('Valor para sacar [10-600]: '))\n",
        "\n",
        "cem = int(numero / 100)\n",
        "numero = numero - (cem*100)\n",
        "   \n",
        "cinquenta = int(numero/50)\n",
        "numero = numero - (cinquenta*50)\n",
        "\n",
        "dez = int(numero/10)\n",
        "numero = numero - (dez*10)\n",
        "\n",
        "cinco = int(numero/5)\n",
        "numero = numero - (cinco*5)\n",
        "\n",
        "um = numero\n",
        "    \n",
        "print('Notas R$100,00 = ',cem)\n",
        "print('Notas R$ 50,00 = ',cinquenta)\n",
        "print('Notas R$ 10,00 = ',dez)\n",
        "print('Notas R$  5,00 = ',cinco)\n",
        "print('Notas R$  1,00 = ',um)"
      ],
      "execution_count": 26,
      "outputs": [
        {
          "output_type": "stream",
          "text": [
            "Valor para sacar [10-600]: 500\n",
            "Notas R$100,00 =  5\n",
            "Notas R$ 50,00 =  0\n",
            "Notas R$ 10,00 =  0\n",
            "Notas R$  5,00 =  0\n",
            "Notas R$  1,00 =  0\n"
          ],
          "name": "stdout"
        }
      ]
    }
  ]
}