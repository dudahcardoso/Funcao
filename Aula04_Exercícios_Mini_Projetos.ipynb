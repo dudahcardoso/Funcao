{
  "nbformat": 4,
  "nbformat_minor": 0,
  "metadata": {
    "colab": {
      "name": "Aula04_Exercícios_Mini_Projetos.ipynb",
      "provenance": [],
      "collapsed_sections": [],
      "include_colab_link": true
    },
    "kernelspec": {
      "name": "python3",
      "display_name": "Python 3"
    },
    "language_info": {
      "name": "python"
    }
  },
  "cells": [
    {
      "cell_type": "markdown",
      "metadata": {
        "id": "view-in-github",
        "colab_type": "text"
      },
      "source": [
        "<a href=\"https://colab.research.google.com/github/dudahcardoso/AULA03-Introducao_Python/blob/main/Aula04_Exerc%C3%ADcios_Mini_Projetos.ipynb\" target=\"_parent\"><img src=\"https://colab.research.google.com/assets/colab-badge.svg\" alt=\"Open In Colab\"/></a>"
      ]
    },
    {
      "cell_type": "markdown",
      "metadata": {
        "id": "-jDiEDNjNY1S"
      },
      "source": [
        "# Plano de aula\n",
        "- A idiea aqui é fazer um conjunto de exercícios simples para os alunos aquecerem e relembrarem os conceitos da última aula.\n",
        "- Nessa etapa podemos fazer junto com os alunos\n",
        "- Após isso vamos passar 3 mini projetos e pedir para eles se dividirem em duplas ou trios para fazerem (Criar as rooms)\n",
        "- Resto da aula os professores podem ajudar nas dúvidas"
      ]
    },
    {
      "cell_type": "markdown",
      "metadata": {
        "id": "DptQTkwqN7v9"
      },
      "source": [
        "# Exercícios de Aquecimento\n",
        "\n",
        "## Exercício 01\n",
        "Elabore um programa que imprima na tela a seguinte frase `Olá Mundo! Esse é o meu primeiro programa`"
      ]
    },
    {
      "cell_type": "code",
      "metadata": {
        "colab": {
          "base_uri": "https://localhost:8080/"
        },
        "id": "fu-Hvxg7OT64",
        "outputId": "c8b3a241-ed66-4412-9462-65565be15a6d"
      },
      "source": [
        "print(\"Olá Mundo! Esse é o meu primeiro programa!\")"
      ],
      "execution_count": null,
      "outputs": [
        {
          "output_type": "stream",
          "text": [
            "Olá Mundo! Esse é o meu primeiro programa!\n"
          ],
          "name": "stdout"
        }
      ]
    },
    {
      "cell_type": "markdown",
      "metadata": {
        "id": "HYnPLbl2OfuE"
      },
      "source": [
        "## Exercício 02\n",
        "Elabore um programa que escreve seu nome completo na primeira linha, seu endereço na segunda e o CEP e telefone na terceira.  \n",
        "\n",
        "**Exemplo:**\n",
        "```\n",
        "Nome: Bruno Fabri\n",
        "Endereço: Rua ABC\n",
        "CEP: 002220-010\n",
        "```"
      ]
    },
    {
      "cell_type": "code",
      "metadata": {
        "colab": {
          "base_uri": "https://localhost:8080/"
        },
        "id": "sUrmuOzbO5Cd",
        "outputId": "dd1cfa87-7037-47ba-831c-24246ca49f53"
      },
      "source": [
        "# Usando vários prints\n",
        "print(\"Nome: Bruno Fabri\")\n",
        "print(\"Endereço: Rua ABC\")\n",
        "print(\"CEP: 002220-010\")"
      ],
      "execution_count": null,
      "outputs": [
        {
          "output_type": "stream",
          "text": [
            "Nome: Bruno Fabri\n",
            "Endereço: Rua ABC\n",
            "CEP: 002220-010\n"
          ],
          "name": "stdout"
        }
      ]
    },
    {
      "cell_type": "code",
      "metadata": {
        "colab": {
          "base_uri": "https://localhost:8080/"
        },
        "id": "7Tfx773CPlcx",
        "outputId": "4c83d7dc-08dc-4b84-93f8-5db411b8f334"
      },
      "source": [
        "# Usando apenas um print\n",
        "print(\"Nome: Bruno Fabri\\nEndereço: Rua ABC\\nCEP: 002220-010\")"
      ],
      "execution_count": null,
      "outputs": [
        {
          "output_type": "stream",
          "text": [
            "Nome: Bruno Fabri\n",
            "Endereço: Rua ABC\n",
            "CEP: 002220-010\n"
          ],
          "name": "stdout"
        }
      ]
    },
    {
      "cell_type": "markdown",
      "metadata": {
        "id": "5XVY0cvwP1WX"
      },
      "source": [
        "## Exercício 03\n",
        "Elabore um programa que recebe o nome de uma pessoa do terminal e mostra a seguinte mensagem: `Olá {nome}! Seja bem vindo ao fantástico mundo da programação`"
      ]
    },
    {
      "cell_type": "code",
      "metadata": {
        "id": "VDfwe6OSQM0M",
        "colab": {
          "base_uri": "https://localhost:8080/"
        },
        "outputId": "bae1b380-8f45-4e10-a840-548a8972d18d"
      },
      "source": [
        "nome = input(\"Qual é o seu nome?\")\n",
        "print(f\"Olá {nome}! Seja bem vindo ao fantástico mundo da programação\")"
      ],
      "execution_count": null,
      "outputs": [
        {
          "output_type": "stream",
          "text": [
            "Qual é o seu nome?Bruno\n",
            "Olá Bruno! Seja bem vindo ao fantástico mundo da programação\n"
          ],
          "name": "stdout"
        }
      ]
    },
    {
      "cell_type": "markdown",
      "metadata": {
        "id": "1Nb29agVQc3k"
      },
      "source": [
        "## Exercício 04\n",
        "Elabore um programa que recebe dois valores inteiros e mostra a soma desses valores\n",
        "\n",
        "**Exemplo:**\n",
        "\n",
        "```\n",
        "Primeiro Valor = 2\n",
        "Segundo Valor = 3\n",
        "Soma = 5\n",
        "```"
      ]
    },
    {
      "cell_type": "code",
      "metadata": {
        "colab": {
          "base_uri": "https://localhost:8080/"
        },
        "id": "a6_BwVwRROmH",
        "outputId": "f6f819fe-9153-497f-d047-def72e20ddef"
      },
      "source": [
        "primeiro_valor = int(input(\"Primeiro Valor = \"))\n",
        "segundo_valor = int(input(\"Segundo Valor = \"))\n",
        "soma = primeiro_valor + segundo_valor\n",
        "print(f\"Soma = {soma}\")"
      ],
      "execution_count": null,
      "outputs": [
        {
          "output_type": "stream",
          "text": [
            "Primeiro Valor = 10\n",
            "Segundo Valor = 20\n",
            "Soma = 30\n"
          ],
          "name": "stdout"
        }
      ]
    },
    {
      "cell_type": "markdown",
      "metadata": {
        "id": "4HQxR3FTTbSr"
      },
      "source": [
        "## Exercício 05\n",
        "Elabore um programa que recebe dois valores inteiros e mostra se o primeiro valor é maior ou igual ao segundo valor\n",
        "\n",
        "**Exemplo:**\n",
        "```\n",
        "Primeiro Valor = 3\n",
        "Segundo Valor = 2\n",
        "Resultado = True\n",
        "```"
      ]
    },
    {
      "cell_type": "code",
      "metadata": {
        "colab": {
          "base_uri": "https://localhost:8080/"
        },
        "id": "OXISQASdTeSW",
        "outputId": "2a5a9793-5029-46cd-cb85-4ee22b3918b8"
      },
      "source": [
        "primeiro_valor = int(input(\"Primeiro Valor = \"))\n",
        "segundo_valor = int(input(\"Segundo Valor = \"))\n",
        "print(primeiro_valor >= segundo_valor)"
      ],
      "execution_count": null,
      "outputs": [
        {
          "output_type": "stream",
          "text": [
            "Primeiro Valor = 3\n",
            "Segundo Valor = 2\n",
            "True\n"
          ],
          "name": "stdout"
        }
      ]
    },
    {
      "cell_type": "markdown",
      "metadata": {
        "id": "Gn8rHPn3UCnc"
      },
      "source": [
        "## Exercício 06\n",
        "Elabore um programa que recebe o seu nome, endereço e hobby e mostra cada uma das informações da seguinte forma:\n",
        "- Nome -> Letra maiúscula\n",
        "- Endereço -> Letra minúscula\n",
        "- Hobby -> Primeira letra maiúscula\n",
        "\n",
        "**Exemplo Entrada:**\n",
        "```\n",
        "Nome: bruno fabri\n",
        "Endereço: Rua ABC\n",
        "Hobby: jogar cs\n",
        "```\n",
        "\n",
        "**Exemplo Saída:**\n",
        "```\n",
        "Nome: BRUNO FABRI\n",
        "Endereço: rua abc\n",
        "Hobby: Jogar cs\n",
        "```"
      ]
    },
    {
      "cell_type": "code",
      "metadata": {
        "colab": {
          "base_uri": "https://localhost:8080/"
        },
        "id": "ZIj-PGVZVVP6",
        "outputId": "dbb2cc35-139e-48bc-e4f6-5cead8328348"
      },
      "source": [
        "nome = input(\"Nome: \")\n",
        "endereco = input(\"Endereço: \")\n",
        "hobby = input(\"Hobby: \")\n",
        "\n",
        "print(\"\")\n",
        "\n",
        "print(\"Nome: \" + nome.upper())\n",
        "print(\"Endereço: \" + endereco.lower())\n",
        "print(\"Hobby: \" + hobby.capitalize())"
      ],
      "execution_count": null,
      "outputs": [
        {
          "output_type": "stream",
          "text": [
            "Nome: bruno fabri\n",
            "Endereço: Rua ABC\n",
            "Hobby: jogar CS\n",
            "\n",
            "Nome: BRUNO FABRI\n",
            "Endereço: rua abc\n",
            "Hobby: Jogar cs\n"
          ],
          "name": "stdout"
        }
      ]
    },
    {
      "cell_type": "markdown",
      "metadata": {
        "id": "wlvmEAPQNrcL"
      },
      "source": [
        "# Mini Projetos"
      ]
    },
    {
      "cell_type": "markdown",
      "metadata": {
        "id": "W8zwueNBKh4B"
      },
      "source": [
        "## Mini Projeto 01 - Conversor de Moeda\n",
        "Vamos construir um programa que irá converter moedas do real para o dólar e do dólar para o real. Vamos considerar que `$ 1,00 = R$ 5,75`\n",
        "\n",
        "### Parte 1\n",
        "Faça o conversor de moeda receber o valor em real e mostrar o valor convertido para dólar no formato `$ XXXX.XX`\n",
        "\n",
        "**Exemplo:**\n",
        "\n",
        "```\n",
        "Valor em R$ = 1000\n",
        "Valor em $ = $ 173.91\n",
        "```\n",
        "\n",
        "### Parte 2\n",
        "Altere o conversor de moedas para receber o valor em dólar, converter para real e mostrar o resultado no formato `R$ XXXX.XX`\n",
        "\n",
        "**Exemplo:**\n",
        "```\n",
        "Valor em $ = 1000\n",
        "Valor em R$ = R$ 5750.00\n",
        "```"
      ]
    },
    {
      "cell_type": "code",
      "metadata": {
        "colab": {
          "base_uri": "https://localhost:8080/"
        },
        "id": "mRQ9fpIgMp5Z",
        "outputId": "5967c5a5-5752-42e1-87a3-f8d73f543fb0"
      },
      "source": [
        "# Parte 1\n",
        "valor_em_real = float(input(\"Valor em R$: \"))\n",
        "valor_em_dolar = valor_em_real / 5.75\n",
        "print(f\"$ {valor_em_dolar:.2f}\")"
      ],
      "execution_count": null,
      "outputs": [
        {
          "output_type": "stream",
          "text": [
            "Valor em R$: 1000\n",
            "$ 173.91\n"
          ],
          "name": "stdout"
        }
      ]
    },
    {
      "cell_type": "code",
      "metadata": {
        "colab": {
          "base_uri": "https://localhost:8080/"
        },
        "id": "3WGX743TNIv0",
        "outputId": "451a5471-41b1-4d6c-bfef-3489401f3560"
      },
      "source": [
        "# Parte 2\n",
        "valor_em_dolar = float(input(\"Valor em $: \"))\n",
        "valor_em_real = valor_em_dolar * 5.75\n",
        "print(f\"R$ {valor_em_real:.2f}\")"
      ],
      "execution_count": null,
      "outputs": [
        {
          "output_type": "stream",
          "text": [
            "Valor em $: 1000\n",
            "R$ 5750.00\n"
          ],
          "name": "stdout"
        }
      ]
    },
    {
      "cell_type": "markdown",
      "metadata": {
        "id": "0NmAiF2DV_ju"
      },
      "source": [
        "## Mini Projeto 02 - Calculadora de aumento de aluguel\n",
        "Vamos construir um programa que irá calcular o aumento anual do seu aluguel em duas partes:\n",
        "\n",
        "### Parte 1\n",
        "A sua calculadora vai receber o `valor do aluguel` e calcular o aumento baseado no `IGPM de 31%`. A calculadora deve apresentar o aluguel reajustado no formato `R$ XXXX.XX`\n",
        "\n",
        "**Exemplo:**\n",
        "```\n",
        "Valor do aluguel = 1000\n",
        "Valor do aluguel reajustado = R$ 1310,00\n",
        "```\n",
        "\n",
        "### Parte 2\n",
        "Agora, altere sua calculadora para receber além do `valor do aluguel`, o percentual do reajuste no formato `XX%`.  \n",
        "\n",
        "**Dica:** Descubra uma forma de transformar o percentual recebido em um número para efetuar o cálculo.\n",
        "\n",
        "**Exemplo:**\n",
        "```\n",
        "Valor do aluguel = 1000\n",
        "Percentual do reajuste = 31%\n",
        "Valor do aluguel reajustado = R% 1310,00\n",
        "```"
      ]
    },
    {
      "cell_type": "code",
      "metadata": {
        "colab": {
          "base_uri": "https://localhost:8080/"
        },
        "id": "0eHzSCyaGkYJ",
        "outputId": "048b249e-b6c0-43e5-da82-75e74060f8f7"
      },
      "source": [
        "# Parte 1\n",
        "valor_aluguel = float(input(\"Valor do aluguel: \"))\n",
        "percentual_reajuste = 1.31\n",
        "valor_aluguel_reajustado = valor_aluguel * percentual_reajuste\n",
        "print(f\"R$ {valor_aluguel_reajustado:.2f}\")"
      ],
      "execution_count": null,
      "outputs": [
        {
          "output_type": "stream",
          "text": [
            "Valor do aluguel: 1000\n",
            "R$ 1310.00\n"
          ],
          "name": "stdout"
        }
      ]
    },
    {
      "cell_type": "code",
      "metadata": {
        "colab": {
          "base_uri": "https://localhost:8080/"
        },
        "id": "9tCtJu76JO1c",
        "outputId": "922697e8-75a9-4dd0-c100-80348261e93f"
      },
      "source": [
        "# Parte 2\n",
        "valor_aluguel = float(input(\"Valor do aluguel: \"))\n",
        "percentual_reajuste = input(\"Percentual do reajuste: \")\n",
        "percentual_reajuste_decimal = (float(percentual_reajuste.replace(\"%\", \"\")) / 100) + 1\n",
        "valor_aluguel_reajustado = valor_aluguel * percentual_reajuste_decimal\n",
        "print(f\"R$ {valor_aluguel_reajustado:.2f}\")\n"
      ],
      "execution_count": null,
      "outputs": [
        {
          "output_type": "stream",
          "text": [
            "Valor do aluguel: 1000\n",
            "Percentual do reajuste: 31%\n",
            "1.31\n",
            "R$ 1310.00\n"
          ],
          "name": "stdout"
        }
      ]
    },
    {
      "cell_type": "markdown",
      "metadata": {
        "id": "xN88sUuMOG46"
      },
      "source": [
        "## Mini Projeto 03 - Calculadora de dano\n",
        "Vamos implementar a calculadora de dano de RPG!!\n",
        "\n",
        "### Parte 1\n",
        "O programa vai receber a `vida e um monstro (entre 10 e 50)` e o `valor do ataque do jogador por turno (entre 5 e 10)`\n",
        "\n",
        "Baseado nos valores, exiba a quantidade de turnos que o jogador irá demorar para conseguir derrotar o monstro.\n",
        "\n",
        "**Exemplo:**\n",
        "```\n",
        "Vida de um monstro (entre 10 e 50): 26\n",
        "Valor do ataque do jogador por turno (entre 5 e 10): 5\n",
        "Resultado: O jogador irá precisar de 6 turnos para derrotar o monstro.\n",
        "```\n",
        "\n",
        "### Parte 2\n",
        "Altere o programa para ao invés de receber a vida do monstro, gerar aleatoriamente um valor entre 10 e 50."
      ]
    },
    {
      "cell_type": "code",
      "metadata": {
        "colab": {
          "base_uri": "https://localhost:8080/"
        },
        "id": "Mrpz9UomQH2P",
        "outputId": "61352d6c-4ec9-4c82-8281-35a3e1601ae3"
      },
      "source": [
        "# Parte 1\n",
        "import math\n",
        "\n",
        "vida_monstro = int(input(\"Vida de um monstro (entre 10 e 50): \"))\n",
        "ataque_jogador = int(input(\"Valor do ataque do jogador por turno (entre 5 e 10): \"))\n",
        "\n",
        "turnos_necessarios = math.ceil(vida_monstro / ataque_jogador)\n",
        "\n",
        "print(f\"O jogador irá precisar de {turnos_necessarios} turnos para derrotar o monstro.\")"
      ],
      "execution_count": null,
      "outputs": [
        {
          "output_type": "stream",
          "text": [
            "Vida de um monstro (entre 10 e 50): 26\n",
            "Valor do ataque do jogador (entre 5 e 10): 5\n",
            "O jogador irá precisar de 6 turnos para derrotar o monstro.\n"
          ],
          "name": "stdout"
        }
      ]
    },
    {
      "cell_type": "code",
      "metadata": {
        "colab": {
          "base_uri": "https://localhost:8080/"
        },
        "id": "eZKfc8PzRDQE",
        "outputId": "049da0af-4051-42d1-be33-8611cafc208b"
      },
      "source": [
        "# Parte 2\n",
        "import math\n",
        "import random\n",
        "\n",
        "vida_monstro = random.randint(10, 50)\n",
        "ataque_jogador = int(input(\"Valor do ataque do jogador por turno (entre 5 e 10): \"))\n",
        "\n",
        "turnos_necessarios = math.ceil(vida_monstro / ataque_jogador)\n",
        "\n",
        "print(f\"Vida do monstro: {vida_monstro}\")\n",
        "print(f\"O jogador irá precisar de {turnos_necessarios} turnos para derrotar o monstro.\")\n"
      ],
      "execution_count": null,
      "outputs": [
        {
          "output_type": "stream",
          "text": [
            "Valor do ataque do jogador por turno (entre 5 e 10): 5\n",
            "Vida do monstro: 11\n",
            "O jogador irá precisar de 3 turnos para derrotar o monstro.\n"
          ],
          "name": "stdout"
        }
      ]
    }
  ]
}