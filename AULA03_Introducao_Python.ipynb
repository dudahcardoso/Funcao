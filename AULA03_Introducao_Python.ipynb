{
  "nbformat": 4,
  "nbformat_minor": 0,
  "metadata": {
    "colab": {
      "name": "AULA03-Introducao_Python.ipynb",
      "provenance": [],
      "collapsed_sections": [
        "PfwIhhSvIf4S",
        "UBlwfG0MDUE0",
        "7Dk2_jXq7pmV",
        "0EwoQN303Xj7",
        "03Oijd418Aaz",
        "XvYj73ck32ui",
        "u5xxsKKR6S76"
      ],
      "authorship_tag": "ABX9TyNbZVgaIQqhPZOLDj47vSZs",
      "include_colab_link": true
    },
    "kernelspec": {
      "name": "python3",
      "display_name": "Python 3"
    },
    "language_info": {
      "name": "python"
    }
  },
  "cells": [
    {
      "cell_type": "markdown",
      "metadata": {
        "id": "view-in-github",
        "colab_type": "text"
      },
      "source": [
        "<a href=\"https://colab.research.google.com/github/dudahcardoso/AULA03-Introducao_Python/blob/main/AULA03_Introducao_Python.ipynb\" target=\"_parent\"><img src=\"https://colab.research.google.com/assets/colab-badge.svg\" alt=\"Open In Colab\"/></a>"
      ]
    },
    {
      "cell_type": "markdown",
      "metadata": {
        "id": "fh2cpWFgKlwv"
      },
      "source": [
        "# **AULA 03**\n",
        "\n",
        "* Introdução ao Python\n",
        "\n",
        "* Variáveis\n",
        "\n",
        "* Manipulação de Strings\n",
        "\n",
        "* Comando Input\n"
      ]
    },
    {
      "cell_type": "markdown",
      "metadata": {
        "id": "PfwIhhSvIf4S"
      },
      "source": [
        "# **Comando Print()**"
      ]
    },
    {
      "cell_type": "code",
      "metadata": {
        "id": "RsYbievAu_9i",
        "colab": {
          "base_uri": "https://localhost:8080/"
        },
        "outputId": "e11b7676-9596-4e1a-f6f2-d5f4b95bc617"
      },
      "source": [
        "print('Olá mundo!!!')"
      ],
      "execution_count": null,
      "outputs": [
        {
          "output_type": "stream",
          "text": [
            "Olá mundo!!!\n"
          ],
          "name": "stdout"
        }
      ]
    },
    {
      "cell_type": "code",
      "metadata": {
        "colab": {
          "base_uri": "https://localhost:8080/"
        },
        "id": "EWOvSSuWvU0_",
        "outputId": "601045ed-d985-4007-a881-76861f4b937e"
      },
      "source": [
        "print(7+4)"
      ],
      "execution_count": 1,
      "outputs": [
        {
          "output_type": "stream",
          "text": [
            "11\n"
          ],
          "name": "stdout"
        }
      ]
    },
    {
      "cell_type": "markdown",
      "metadata": {
        "id": "s3_POfLKI3Fe"
      },
      "source": [
        "Se colocarmos \"aspas\" nos números o resultado é outro\n",
        "\n"
      ]
    },
    {
      "cell_type": "code",
      "metadata": {
        "colab": {
          "base_uri": "https://localhost:8080/"
        },
        "id": "HzopBKyHI314",
        "outputId": "50f5b2fe-c69c-4cf3-dc9c-7a5b0e83d930"
      },
      "source": [
        "print('7'+'4')"
      ],
      "execution_count": null,
      "outputs": [
        {
          "output_type": "stream",
          "text": [
            "74\n"
          ],
          "name": "stdout"
        }
      ]
    },
    {
      "cell_type": "markdown",
      "metadata": {
        "id": "UBlwfG0MDUE0"
      },
      "source": [
        "# **Operadores em Python**"
      ]
    },
    {
      "cell_type": "markdown",
      "metadata": {
        "id": "AH9aupTPJ2sN"
      },
      "source": [
        "* Operadores Aritméticos\n",
        "\n",
        "\n"
      ]
    },
    {
      "cell_type": "code",
      "metadata": {
        "colab": {
          "base_uri": "https://localhost:8080/"
        },
        "id": "Ju8VKML7G_HO",
        "outputId": "f6988413-a898-43d4-c93c-fabd2386b447"
      },
      "source": [
        "a = 2 + 3\n",
        "b = 2 * 3\n",
        "c = 2 - 3\n",
        "d = 2 / 3\n",
        "print(a)\n",
        "print(b)\n",
        "print(c)\n",
        "print(d)"
      ],
      "execution_count": null,
      "outputs": [
        {
          "output_type": "stream",
          "text": [
            "5\n",
            "6\n",
            "-1\n",
            "0.6666666666666666\n"
          ],
          "name": "stdout"
        }
      ]
    },
    {
      "cell_type": "code",
      "metadata": {
        "id": "U2-OamwBIKpS"
      },
      "source": [
        "soma = 5 + 5\n",
        "subtracao = 10 - 5\n",
        "multiplicacao = 10 * 5\n",
        "divisao = 10 / 2\n",
        "\n",
        "print(soma)\n",
        "print(subtracao)\n",
        "print(multiplicacao)\n",
        "print(divisao)"
      ],
      "execution_count": null,
      "outputs": []
    },
    {
      "cell_type": "markdown",
      "metadata": {
        "id": "B6EAI1ByJ8aM"
      },
      "source": [
        "* Operadores Relacionais"
      ]
    },
    {
      "cell_type": "code",
      "metadata": {
        "colab": {
          "base_uri": "https://localhost:8080/"
        },
        "id": "PQLLXrXmFZCT",
        "outputId": "1610a58c-5143-4c7d-f36a-f581b5be8b16"
      },
      "source": [
        "2>3"
      ],
      "execution_count": null,
      "outputs": [
        {
          "output_type": "execute_result",
          "data": {
            "text/plain": [
              "False"
            ]
          },
          "metadata": {
            "tags": []
          },
          "execution_count": 1
        }
      ]
    },
    {
      "cell_type": "markdown",
      "metadata": {
        "id": "XOs9OQG8KDNi"
      },
      "source": [
        "* Operadores Lógicos"
      ]
    },
    {
      "cell_type": "code",
      "metadata": {
        "colab": {
          "base_uri": "https://localhost:8080/"
        },
        "id": "ROnieyJeFrQT",
        "outputId": "2af517a2-a3dd-421a-c7de-87dda1e375ab"
      },
      "source": [
        "nota = 3\n",
        "nota <= 6 and nota >= 4\n",
        "print(\"em recuperação\")"
      ],
      "execution_count": null,
      "outputs": [
        {
          "output_type": "stream",
          "text": [
            "em recuperação\n"
          ],
          "name": "stdout"
        }
      ]
    },
    {
      "cell_type": "markdown",
      "metadata": {
        "id": "kP7NFtteKJyT"
      },
      "source": [
        "* Operedores bit a bit"
      ]
    },
    {
      "cell_type": "code",
      "metadata": {
        "id": "x3WanQbfHZUg",
        "colab": {
          "base_uri": "https://localhost:8080/"
        },
        "outputId": "8f45b835-a3a5-4cf9-a999-393f22c1aebc"
      },
      "source": [
        "~b"
      ],
      "execution_count": null,
      "outputs": [
        {
          "output_type": "execute_result",
          "data": {
            "text/plain": [
              "-7"
            ]
          },
          "metadata": {
            "tags": []
          },
          "execution_count": 4
        }
      ]
    },
    {
      "cell_type": "markdown",
      "metadata": {
        "id": "7Dk2_jXq7pmV"
      },
      "source": [
        "# **`VARIÁVEIS`**\n",
        "\n",
        "\n",
        "\n"
      ]
    },
    {
      "cell_type": "markdown",
      "metadata": {
        "id": "Lk7MeOMsnsV-"
      },
      "source": [
        "Exemplo 1"
      ]
    },
    {
      "cell_type": "code",
      "metadata": {
        "colab": {
          "base_uri": "https://localhost:8080/"
        },
        "id": "bN8hJ1hwntpM",
        "outputId": "8ef46bda-bccc-4386-a664-5cfbb242eeec"
      },
      "source": [
        "a = 29;\n",
        "a"
      ],
      "execution_count": null,
      "outputs": [
        {
          "output_type": "execute_result",
          "data": {
            "text/plain": [
              "29"
            ]
          },
          "metadata": {
            "tags": []
          },
          "execution_count": 1
        }
      ]
    },
    {
      "cell_type": "markdown",
      "metadata": {
        "id": "D0F-aT_fn96-"
      },
      "source": [
        "Exemplo 2:"
      ]
    },
    {
      "cell_type": "code",
      "metadata": {
        "colab": {
          "base_uri": "https://localhost:8080/"
        },
        "id": "xHirzCAhoaYa",
        "outputId": "9ad999ef-cc1a-4370-f9e2-cdedc8d1d163"
      },
      "source": [
        "b = 1.8\n",
        "b"
      ],
      "execution_count": null,
      "outputs": [
        {
          "output_type": "execute_result",
          "data": {
            "text/plain": [
              "1.8"
            ]
          },
          "metadata": {
            "tags": []
          },
          "execution_count": 2
        }
      ]
    },
    {
      "cell_type": "markdown",
      "metadata": {
        "id": "CYSBwP92odE5"
      },
      "source": [
        "Exemplo 3:"
      ]
    },
    {
      "cell_type": "code",
      "metadata": {
        "colab": {
          "base_uri": "https://localhost:8080/",
          "height": 35
        },
        "id": "82QMlZeJoe0I",
        "outputId": "473577d7-294a-4322-a463-6bcf5aeb6b3f"
      },
      "source": [
        "c = \"Pelos poderes de Grayskul! Eu tenho a força!\"\n",
        "c"
      ],
      "execution_count": null,
      "outputs": [
        {
          "output_type": "execute_result",
          "data": {
            "application/vnd.google.colaboratory.intrinsic+json": {
              "type": "string"
            },
            "text/plain": [
              "'Pelos poderes de Grayskul! Eu tenho a força!'"
            ]
          },
          "metadata": {
            "tags": []
          },
          "execution_count": 3
        }
      ]
    },
    {
      "cell_type": "markdown",
      "metadata": {
        "id": "293GNmrjoogI"
      },
      "source": [
        "Tipos de variáveis"
      ]
    },
    {
      "cell_type": "code",
      "metadata": {
        "colab": {
          "base_uri": "https://localhost:8080/"
        },
        "id": "DagjUieX7wXr",
        "outputId": "50bdf163-fddf-4e1d-f14c-7c350cb4fd06"
      },
      "source": [
        "print(type(c))\n",
        "print(type(b))\n",
        "print(type(a))\n"
      ],
      "execution_count": null,
      "outputs": [
        {
          "output_type": "stream",
          "text": [
            "<class 'str'>\n",
            "<class 'float'>\n",
            "<class 'int'>\n"
          ],
          "name": "stdout"
        }
      ]
    },
    {
      "cell_type": "markdown",
      "metadata": {
        "id": "nXjKf5FV0XXH"
      },
      "source": [
        "________________________________________________________________________________"
      ]
    },
    {
      "cell_type": "markdown",
      "metadata": {
        "id": "VTwn121qpiaB"
      },
      "source": [
        "**Sintaxe elegante**"
      ]
    },
    {
      "cell_type": "code",
      "metadata": {
        "colab": {
          "base_uri": "https://localhost:8080/"
        },
        "id": "mFAX4nv5pljv",
        "outputId": "c7400faf-dbaa-4871-e5af-e39faba4a598"
      },
      "source": [
        "print('Olá Mundo')"
      ],
      "execution_count": null,
      "outputs": [
        {
          "output_type": "stream",
          "text": [
            "Olá Mundo\n"
          ],
          "name": "stdout"
        }
      ]
    },
    {
      "cell_type": "code",
      "metadata": {
        "colab": {
          "base_uri": "https://localhost:8080/"
        },
        "id": "0brqbZv2prE1",
        "outputId": "86cb940f-bfad-486b-ed99-a649e4afd3c6"
      },
      "source": [
        "x = 'Blue'\n",
        "print(x)"
      ],
      "execution_count": null,
      "outputs": [
        {
          "output_type": "stream",
          "text": [
            "Blue\n"
          ],
          "name": "stdout"
        }
      ]
    },
    {
      "cell_type": "markdown",
      "metadata": {
        "id": "4_4DnczJpwyU"
      },
      "source": [
        "**Tipagem dinâmica**"
      ]
    },
    {
      "cell_type": "code",
      "metadata": {
        "colab": {
          "base_uri": "https://localhost:8080/"
        },
        "id": "CIjcCQLip1-0",
        "outputId": "757f81b3-eaf9-42a7-a54b-af578f4edbbd"
      },
      "source": [
        "b,t = 10,20\n",
        "print('Resultado: ', b+t)"
      ],
      "execution_count": null,
      "outputs": [
        {
          "output_type": "stream",
          "text": [
            "Resultado:  30\n"
          ],
          "name": "stdout"
        }
      ]
    },
    {
      "cell_type": "markdown",
      "metadata": {
        "id": "MG0OEAlEqBbi"
      },
      "source": [
        "**Tipagem forte**"
      ]
    },
    {
      "cell_type": "code",
      "metadata": {
        "colab": {
          "base_uri": "https://localhost:8080/",
          "height": 231
        },
        "id": "NWAtC6OyqEJQ",
        "outputId": "3a02cd19-3478-4f50-9196-fc917da57d0d"
      },
      "source": [
        "i,j = 10, 'Márcio'\n",
        "print(i)\n",
        "print(j)\n",
        "print(i+j)"
      ],
      "execution_count": null,
      "outputs": [
        {
          "output_type": "stream",
          "text": [
            "10\n",
            "Márcio\n"
          ],
          "name": "stdout"
        },
        {
          "output_type": "error",
          "ename": "TypeError",
          "evalue": "ignored",
          "traceback": [
            "\u001b[0;31m---------------------------------------------------------------------------\u001b[0m",
            "\u001b[0;31mTypeError\u001b[0m                                 Traceback (most recent call last)",
            "\u001b[0;32m<ipython-input-12-6c24973f75bb>\u001b[0m in \u001b[0;36m<module>\u001b[0;34m()\u001b[0m\n\u001b[1;32m      2\u001b[0m \u001b[0mprint\u001b[0m\u001b[0;34m(\u001b[0m\u001b[0mi\u001b[0m\u001b[0;34m)\u001b[0m\u001b[0;34m\u001b[0m\u001b[0;34m\u001b[0m\u001b[0m\n\u001b[1;32m      3\u001b[0m \u001b[0mprint\u001b[0m\u001b[0;34m(\u001b[0m\u001b[0mj\u001b[0m\u001b[0;34m)\u001b[0m\u001b[0;34m\u001b[0m\u001b[0;34m\u001b[0m\u001b[0m\n\u001b[0;32m----> 4\u001b[0;31m \u001b[0mprint\u001b[0m\u001b[0;34m(\u001b[0m\u001b[0mi\u001b[0m\u001b[0;34m+\u001b[0m\u001b[0mj\u001b[0m\u001b[0;34m)\u001b[0m\u001b[0;34m\u001b[0m\u001b[0;34m\u001b[0m\u001b[0m\n\u001b[0m",
            "\u001b[0;31mTypeError\u001b[0m: unsupported operand type(s) for +: 'int' and 'str'"
          ]
        }
      ]
    },
    {
      "cell_type": "markdown",
      "metadata": {
        "id": "R4lDgs_2qRGi"
      },
      "source": [
        "**Estrutura de dados de alto nível**"
      ]
    },
    {
      "cell_type": "code",
      "metadata": {
        "colab": {
          "base_uri": "https://localhost:8080/"
        },
        "id": "U-mkbzUVqVJE",
        "outputId": "3c62788e-57cc-4650-fca1-e634107de2e9"
      },
      "source": [
        "l = [3,2,1]\n",
        "m = l\n",
        "l[1] = 8\n",
        "print(m)"
      ],
      "execution_count": null,
      "outputs": [
        {
          "output_type": "stream",
          "text": [
            "[3, 8, 1]\n"
          ],
          "name": "stdout"
        }
      ]
    },
    {
      "cell_type": "code",
      "metadata": {
        "colab": {
          "base_uri": "https://localhost:8080/"
        },
        "id": "Db33l46Uqjd4",
        "outputId": "26c65c66-f973-480d-d2f8-34175f3fd4f0"
      },
      "source": [
        "d = ['23', 'Sexta=feira', 'Março','2021']\n",
        "print(d)"
      ],
      "execution_count": null,
      "outputs": [
        {
          "output_type": "stream",
          "text": [
            "['23', 'Sexta=feira', 'Março', '2021']\n"
          ],
          "name": "stdout"
        }
      ]
    },
    {
      "cell_type": "markdown",
      "metadata": {
        "id": "03Oijd418Aaz"
      },
      "source": [
        "# **COMANDO INPUT**"
      ]
    },
    {
      "cell_type": "code",
      "metadata": {
        "colab": {
          "base_uri": "https://localhost:8080/",
          "height": 0
        },
        "id": "QzkOLy_f8GRt",
        "outputId": "d6990e9c-2621-4c53-f2e9-001329100237"
      },
      "source": [
        "nome = input(\"Digite seu nome e sobrenome: \")\n",
        "nome"
      ],
      "execution_count": 5,
      "outputs": [
        {
          "output_type": "stream",
          "text": [
            "Digite seu nome e sobrenome: duda\n"
          ],
          "name": "stdout"
        },
        {
          "output_type": "execute_result",
          "data": {
            "application/vnd.google.colaboratory.intrinsic+json": {
              "type": "string"
            },
            "text/plain": [
              "'duda'"
            ]
          },
          "metadata": {
            "tags": []
          },
          "execution_count": 5
        }
      ]
    },
    {
      "cell_type": "code",
      "metadata": {
        "colab": {
          "base_uri": "https://localhost:8080/"
        },
        "id": "V4gupj7Y9PLE",
        "outputId": "6f45cd8f-54da-4341-80ba-75c055d0f53c"
      },
      "source": [
        "num = int(input(\"Digite seu número da sorte: \"))"
      ],
      "execution_count": null,
      "outputs": [
        {
          "output_type": "stream",
          "text": [
            "Digite seu número da sorte: 12\n"
          ],
          "name": "stdout"
        }
      ]
    },
    {
      "cell_type": "code",
      "metadata": {
        "colab": {
          "base_uri": "https://localhost:8080/"
        },
        "id": "_Jx1NRDc9ali",
        "outputId": "512eb2e4-0b2c-4eda-9266-333647155a9e"
      },
      "source": [
        "num = float(input(\"Digite sua altura: \"))"
      ],
      "execution_count": null,
      "outputs": [
        {
          "output_type": "stream",
          "text": [
            "Digite sua altura: 1.56\n"
          ],
          "name": "stdout"
        }
      ]
    },
    {
      "cell_type": "markdown",
      "metadata": {
        "id": "0EwoQN303Xj7"
      },
      "source": [
        "# **STRINGS**"
      ]
    },
    {
      "cell_type": "code",
      "metadata": {
        "colab": {
          "base_uri": "https://localhost:8080/"
        },
        "id": "7cqs6DGN2BL0",
        "outputId": "cad38829-6054-45cd-f617-c2d6b4434222"
      },
      "source": [
        "print(\"Qual é o seu nome?\")"
      ],
      "execution_count": 2,
      "outputs": [
        {
          "output_type": "stream",
          "text": [
            "Qual é o seu nome?\n"
          ],
          "name": "stdout"
        }
      ]
    },
    {
      "cell_type": "markdown",
      "metadata": {
        "id": "Rj_N_O_K3djP"
      },
      "source": [
        "**CONCATENAÇÃO DE STRINGS**"
      ]
    },
    {
      "cell_type": "markdown",
      "metadata": {
        "id": "VzKPwNfn3kJs"
      },
      "source": [
        "**Exemplo 1:**"
      ]
    },
    {
      "cell_type": "code",
      "metadata": {
        "colab": {
          "base_uri": "https://localhost:8080/"
        },
        "id": "bU7756132yRr",
        "outputId": "de62543f-8438-45aa-a349-b2ece31b15b1"
      },
      "source": [
        "print(\"Programação\"+\"Python\")"
      ],
      "execution_count": null,
      "outputs": [
        {
          "output_type": "stream",
          "text": [
            "ProgramaçãoPython\n"
          ],
          "name": "stdout"
        }
      ]
    },
    {
      "cell_type": "markdown",
      "metadata": {
        "id": "I4HmjZNK3lum"
      },
      "source": [
        "**Exemplo 2:**"
      ]
    },
    {
      "cell_type": "code",
      "metadata": {
        "colab": {
          "base_uri": "https://localhost:8080/"
        },
        "id": "gkJeFUJ63A6l",
        "outputId": "c5812695-e31f-47e2-e2e7-4b184fedc8fb"
      },
      "source": [
        "p = \"Programação\"\n",
        "py = \"Python\"\n",
        "prog = p + py\n",
        "print(prog)"
      ],
      "execution_count": null,
      "outputs": [
        {
          "output_type": "stream",
          "text": [
            "ProgramaçãoPython\n"
          ],
          "name": "stdout"
        }
      ]
    },
    {
      "cell_type": "markdown",
      "metadata": {
        "id": "Tb1gqCTs-Zvt"
      },
      "source": [
        "**MANIPULAÇÃO DE STRINGS**"
      ]
    },
    {
      "cell_type": "markdown",
      "metadata": {
        "id": "05Cesvxj-fGp"
      },
      "source": [
        "Utilizando *len()*"
      ]
    },
    {
      "cell_type": "code",
      "metadata": {
        "colab": {
          "base_uri": "https://localhost:8080/"
        },
        "id": "pKoXhhOt5WLY",
        "outputId": "552a96f4-6f91-44b2-c57b-19b3cbcbc466"
      },
      "source": [
        "teste = \"Programação Python\"\n",
        "len(teste)"
      ],
      "execution_count": null,
      "outputs": [
        {
          "output_type": "execute_result",
          "data": {
            "text/plain": [
              "18"
            ]
          },
          "metadata": {
            "tags": []
          },
          "execution_count": 4
        }
      ]
    },
    {
      "cell_type": "markdown",
      "metadata": {
        "id": "9S9nIyvH_S2J"
      },
      "source": [
        "Utilizando *capitalize()*"
      ]
    },
    {
      "cell_type": "code",
      "metadata": {
        "colab": {
          "base_uri": "https://localhost:8080/",
          "height": 35
        },
        "id": "949xGhAu_GAx",
        "outputId": "1b925b17-3584-404f-a803-580cfc38a3cf"
      },
      "source": [
        "a = \"python\"\n",
        "a.capitalize()\n"
      ],
      "execution_count": null,
      "outputs": [
        {
          "output_type": "execute_result",
          "data": {
            "application/vnd.google.colaboratory.intrinsic+json": {
              "type": "string"
            },
            "text/plain": [
              "'Python'"
            ]
          },
          "metadata": {
            "tags": []
          },
          "execution_count": 5
        }
      ]
    },
    {
      "cell_type": "markdown",
      "metadata": {
        "id": "yYeymIKh_3MT"
      },
      "source": [
        "Utilizando *count()*"
      ]
    },
    {
      "cell_type": "code",
      "metadata": {
        "colab": {
          "base_uri": "https://localhost:8080/"
        },
        "id": "FJKsW4cO_77h",
        "outputId": "32a6953f-83f1-4f9e-a766-2728a4a4890c"
      },
      "source": [
        "b = \"Linguagem Python\"\n",
        "b.count(\"y\")"
      ],
      "execution_count": null,
      "outputs": [
        {
          "output_type": "execute_result",
          "data": {
            "text/plain": [
              "1"
            ]
          },
          "metadata": {
            "tags": []
          },
          "execution_count": 7
        }
      ]
    },
    {
      "cell_type": "markdown",
      "metadata": {
        "id": "dtubZ_KuBQqX"
      },
      "source": [
        "Utilizando *starswith()*"
      ]
    },
    {
      "cell_type": "code",
      "metadata": {
        "colab": {
          "base_uri": "https://localhost:8080/"
        },
        "id": "JHGXavHiBdCz",
        "outputId": "bd1d2094-dc81-42c1-a782-101d557c6bab"
      },
      "source": [
        "d = \"Python\"\n",
        "d.startswith(\"Py\")"
      ],
      "execution_count": null,
      "outputs": [
        {
          "output_type": "execute_result",
          "data": {
            "text/plain": [
              "True"
            ]
          },
          "metadata": {
            "tags": []
          },
          "execution_count": 11
        }
      ]
    },
    {
      "cell_type": "markdown",
      "metadata": {
        "id": "vVMFV5j0B9-5"
      },
      "source": [
        "Utilizando *endswith()*"
      ]
    },
    {
      "cell_type": "code",
      "metadata": {
        "colab": {
          "base_uri": "https://localhost:8080/"
        },
        "id": "KQBrMxwBBs-z",
        "outputId": "f1484505-f3af-43e0-9142-e89f28eaea01"
      },
      "source": [
        "d = \"Python\"\n",
        "d.endswith(\"Py\")"
      ],
      "execution_count": null,
      "outputs": [
        {
          "output_type": "execute_result",
          "data": {
            "text/plain": [
              "False"
            ]
          },
          "metadata": {
            "tags": []
          },
          "execution_count": 12
        }
      ]
    },
    {
      "cell_type": "markdown",
      "metadata": {
        "id": "JbCc9VWTWQjx"
      },
      "source": [
        "Utilizando *isalpha()*"
      ]
    },
    {
      "cell_type": "code",
      "metadata": {
        "colab": {
          "base_uri": "https://localhost:8080/"
        },
        "id": "CKshmwCIWEAa",
        "outputId": "5cc56ee1-c0f6-4df9-9e5c-fe831a7b8dfe"
      },
      "source": [
        "f = \"Python\"\n",
        "f.isalpha()"
      ],
      "execution_count": null,
      "outputs": [
        {
          "output_type": "execute_result",
          "data": {
            "text/plain": [
              "True"
            ]
          },
          "metadata": {
            "tags": []
          },
          "execution_count": 13
        }
      ]
    },
    {
      "cell_type": "markdown",
      "metadata": {
        "id": "A_C8yMA-WZWi"
      },
      "source": [
        "Utilizando *islower()*"
      ]
    },
    {
      "cell_type": "code",
      "metadata": {
        "colab": {
          "base_uri": "https://localhost:8080/"
        },
        "id": "Ut0wFxBrWfWO",
        "outputId": "3a9f50f7-6830-4fd8-9375-7d5188d70202"
      },
      "source": [
        "g = \"Python\"\n",
        "g.islower()"
      ],
      "execution_count": null,
      "outputs": [
        {
          "output_type": "execute_result",
          "data": {
            "text/plain": [
              "False"
            ]
          },
          "metadata": {
            "tags": []
          },
          "execution_count": 14
        }
      ]
    },
    {
      "cell_type": "markdown",
      "metadata": {
        "id": "W4875nFiWts2"
      },
      "source": [
        "Utilizando issuper()"
      ]
    },
    {
      "cell_type": "code",
      "metadata": {
        "colab": {
          "base_uri": "https://localhost:8080/"
        },
        "id": "0d08gxlTWwCR",
        "outputId": "73491a5b-1d6e-40a4-8f7d-85b4ffd8e8df"
      },
      "source": [
        "h = \"# PYTHON 12\"\n",
        "h.isupper()"
      ],
      "execution_count": null,
      "outputs": [
        {
          "output_type": "execute_result",
          "data": {
            "text/plain": [
              "True"
            ]
          },
          "metadata": {
            "tags": []
          },
          "execution_count": 16
        }
      ]
    },
    {
      "cell_type": "markdown",
      "metadata": {
        "id": "yjgo_zFCpc6o"
      },
      "source": [
        "Utilizando *lower()*"
      ]
    },
    {
      "cell_type": "code",
      "metadata": {
        "colab": {
          "base_uri": "https://localhost:8080/",
          "height": 35
        },
        "id": "s26M_XQBpfKK",
        "outputId": "776b71fa-4fb7-4368-e816-2681b762ef9d"
      },
      "source": [
        "i = \"#PYTHON 3\"\n",
        "i.lower()"
      ],
      "execution_count": null,
      "outputs": [
        {
          "output_type": "execute_result",
          "data": {
            "application/vnd.google.colaboratory.intrinsic+json": {
              "type": "string"
            },
            "text/plain": [
              "'#python 3'"
            ]
          },
          "metadata": {
            "tags": []
          },
          "execution_count": 1
        }
      ]
    },
    {
      "cell_type": "markdown",
      "metadata": {
        "id": "x-cdcVLlp1Zq"
      },
      "source": [
        "Utilizando *upper()*"
      ]
    },
    {
      "cell_type": "code",
      "metadata": {
        "colab": {
          "base_uri": "https://localhost:8080/",
          "height": 35
        },
        "id": "4wUIQvfap4Ni",
        "outputId": "38eba470-15c0-478e-a60c-656ea69b2940"
      },
      "source": [
        "j = \"Python\"\n",
        "j.upper()"
      ],
      "execution_count": null,
      "outputs": [
        {
          "output_type": "execute_result",
          "data": {
            "application/vnd.google.colaboratory.intrinsic+json": {
              "type": "string"
            },
            "text/plain": [
              "'PYTHON'"
            ]
          },
          "metadata": {
            "tags": []
          },
          "execution_count": 2
        }
      ]
    },
    {
      "cell_type": "markdown",
      "metadata": {
        "id": "ZOLHPyqLqKfb"
      },
      "source": [
        "Utlizando *swapcase()*"
      ]
    },
    {
      "cell_type": "code",
      "metadata": {
        "colab": {
          "base_uri": "https://localhost:8080/",
          "height": 35
        },
        "id": "SZQtvoNQqOdi",
        "outputId": "08124db4-f157-4c3f-85a2-89013f11c9aa"
      },
      "source": [
        "k =\"Python\"\n",
        "k.swapcase()"
      ],
      "execution_count": null,
      "outputs": [
        {
          "output_type": "execute_result",
          "data": {
            "application/vnd.google.colaboratory.intrinsic+json": {
              "type": "string"
            },
            "text/plain": [
              "'pYTHON'"
            ]
          },
          "metadata": {
            "tags": []
          },
          "execution_count": 3
        }
      ]
    },
    {
      "cell_type": "markdown",
      "metadata": {
        "id": "x_LjjTsjqgFc"
      },
      "source": [
        "Utilizando *title()*"
      ]
    },
    {
      "cell_type": "code",
      "metadata": {
        "colab": {
          "base_uri": "https://localhost:8080/",
          "height": 35
        },
        "id": "L5-UczBFqa_-",
        "outputId": "bf3419ca-e0af-44a4-c8c4-74cae4fa1788"
      },
      "source": [
        "l = \"apostila de python\"\n",
        "l.title()"
      ],
      "execution_count": null,
      "outputs": [
        {
          "output_type": "execute_result",
          "data": {
            "application/vnd.google.colaboratory.intrinsic+json": {
              "type": "string"
            },
            "text/plain": [
              "'Apostila De Python'"
            ]
          },
          "metadata": {
            "tags": []
          },
          "execution_count": 4
        }
      ]
    },
    {
      "cell_type": "markdown",
      "metadata": {
        "id": "yr4EFPxtqsNG"
      },
      "source": [
        "Utilizando *split()*"
      ]
    },
    {
      "cell_type": "code",
      "metadata": {
        "colab": {
          "base_uri": "https://localhost:8080/"
        },
        "id": "FKojoQBKqu23",
        "outputId": "32144786-14cb-4a6e-934f-1e9a56709a45"
      },
      "source": [
        "m = \"cana de açucar\"\n",
        "m.split()"
      ],
      "execution_count": null,
      "outputs": [
        {
          "output_type": "execute_result",
          "data": {
            "text/plain": [
              "['cana', 'de', 'açucar']"
            ]
          },
          "metadata": {
            "tags": []
          },
          "execution_count": 5
        }
      ]
    },
    {
      "cell_type": "markdown",
      "metadata": {
        "id": "xak5FtKhq8Fb"
      },
      "source": [
        "Utilizando *replace(S1, S2)*"
      ]
    },
    {
      "cell_type": "code",
      "metadata": {
        "colab": {
          "base_uri": "https://localhost:8080/",
          "height": 35
        },
        "id": "UYRI73NIq_Ji",
        "outputId": "bf2d5f2f-1a68-4d35-92e8-c5a854cc005a"
      },
      "source": [
        "n = \"Apostila teste\"\n",
        "n.replace(\"teste\",\"Python\")"
      ],
      "execution_count": null,
      "outputs": [
        {
          "output_type": "execute_result",
          "data": {
            "application/vnd.google.colaboratory.intrinsic+json": {
              "type": "string"
            },
            "text/plain": [
              "'Apostila Python'"
            ]
          },
          "metadata": {
            "tags": []
          },
          "execution_count": 6
        }
      ]
    },
    {
      "cell_type": "markdown",
      "metadata": {
        "id": "PzefHEGBzNvc"
      },
      "source": [
        "Utilizando *find()*"
      ]
    },
    {
      "cell_type": "code",
      "metadata": {
        "colab": {
          "base_uri": "https://localhost:8080/"
        },
        "id": "2qcfd7jLzQle",
        "outputId": "b46c9f68-077d-4b3e-c2e4-f0de3502f6e7"
      },
      "source": [
        "o = \"Python\"\n",
        "o.find(\"h\")"
      ],
      "execution_count": null,
      "outputs": [
        {
          "output_type": "execute_result",
          "data": {
            "text/plain": [
              "3"
            ]
          },
          "metadata": {
            "tags": []
          },
          "execution_count": 7
        }
      ]
    },
    {
      "cell_type": "markdown",
      "metadata": {
        "id": "gNfm1HOr0zKz"
      },
      "source": [
        "Utilizando *ljust()*"
      ]
    },
    {
      "cell_type": "code",
      "metadata": {
        "colab": {
          "base_uri": "https://localhost:8080/",
          "height": 35
        },
        "id": "BKLcU0E-0ovt",
        "outputId": "36d484b8-beaf-490b-d8e1-2fae13abfee0"
      },
      "source": [
        "p = \"Python\"\n",
        "p.ljust(15)"
      ],
      "execution_count": null,
      "outputs": [
        {
          "output_type": "execute_result",
          "data": {
            "application/vnd.google.colaboratory.intrinsic+json": {
              "type": "string"
            },
            "text/plain": [
              "'Python         '"
            ]
          },
          "metadata": {
            "tags": []
          },
          "execution_count": 8
        }
      ]
    },
    {
      "cell_type": "markdown",
      "metadata": {
        "id": "1BKX5q8A1JNp"
      },
      "source": [
        "Utilizando *center()*"
      ]
    },
    {
      "cell_type": "code",
      "metadata": {
        "colab": {
          "base_uri": "https://localhost:8080/",
          "height": 35
        },
        "id": "H-PRROC61C9A",
        "outputId": "9889b976-0279-44dc-99d9-409ee30c64d1"
      },
      "source": [
        "r = \"Python\"\n",
        "r.center(10)"
      ],
      "execution_count": null,
      "outputs": [
        {
          "output_type": "execute_result",
          "data": {
            "application/vnd.google.colaboratory.intrinsic+json": {
              "type": "string"
            },
            "text/plain": [
              "'  Python  '"
            ]
          },
          "metadata": {
            "tags": []
          },
          "execution_count": 9
        }
      ]
    },
    {
      "cell_type": "markdown",
      "metadata": {
        "id": "eGS4DaDQ118v"
      },
      "source": [
        "Utilizando strip()"
      ]
    },
    {
      "cell_type": "code",
      "metadata": {
        "colab": {
          "base_uri": "https://localhost:8080/",
          "height": 35
        },
        "id": "nDeQS74s13n2",
        "outputId": "f8f4f728-fce0-499b-d104-ac340db2730a"
      },
      "source": [
        "u = \"   Python    \"\n",
        "u.strip()"
      ],
      "execution_count": null,
      "outputs": [
        {
          "output_type": "execute_result",
          "data": {
            "application/vnd.google.colaboratory.intrinsic+json": {
              "type": "string"
            },
            "text/plain": [
              "'Python'"
            ]
          },
          "metadata": {
            "tags": []
          },
          "execution_count": 10
        }
      ]
    },
    {
      "cell_type": "markdown",
      "metadata": {
        "id": "8_LI2wJB3MAO"
      },
      "source": [
        "**FATIAMENTO DE STRINGS**"
      ]
    },
    {
      "cell_type": "code",
      "metadata": {
        "colab": {
          "base_uri": "https://localhost:8080/",
          "height": 35
        },
        "id": "l85vSNgL3VPe",
        "outputId": "8d2a8860-1b7a-49d8-9be9-8e20f4e93638"
      },
      "source": [
        "p = \"Python\"\n",
        "p[1:4]"
      ],
      "execution_count": null,
      "outputs": [
        {
          "output_type": "execute_result",
          "data": {
            "application/vnd.google.colaboratory.intrinsic+json": {
              "type": "string"
            },
            "text/plain": [
              "'yth'"
            ]
          },
          "metadata": {
            "tags": []
          },
          "execution_count": 14
        }
      ]
    },
    {
      "cell_type": "code",
      "metadata": {
        "colab": {
          "base_uri": "https://localhost:8080/",
          "height": 35
        },
        "id": "NNxwdlmz3qjt",
        "outputId": "1327d9a6-d7b8-49c4-a974-0eed25fdf73f"
      },
      "source": [
        "p = \"Python\"\n",
        "p[2]"
      ],
      "execution_count": null,
      "outputs": [
        {
          "output_type": "execute_result",
          "data": {
            "application/vnd.google.colaboratory.intrinsic+json": {
              "type": "string"
            },
            "text/plain": [
              "'t'"
            ]
          },
          "metadata": {
            "tags": []
          },
          "execution_count": 15
        }
      ]
    },
    {
      "cell_type": "code",
      "metadata": {
        "colab": {
          "base_uri": "https://localhost:8080/",
          "height": 35
        },
        "id": "hBwtkUki3tmw",
        "outputId": "71e59c04-8943-4436-9587-f073a9188cfa"
      },
      "source": [
        "p = \"Python\"\n",
        "p[:4]"
      ],
      "execution_count": null,
      "outputs": [
        {
          "output_type": "execute_result",
          "data": {
            "application/vnd.google.colaboratory.intrinsic+json": {
              "type": "string"
            },
            "text/plain": [
              "'Pyth'"
            ]
          },
          "metadata": {
            "tags": []
          },
          "execution_count": 16
        }
      ]
    },
    {
      "cell_type": "markdown",
      "metadata": {
        "id": "XvYj73ck32ui"
      },
      "source": [
        "# **Exercício 1**\n",
        "\n",
        "Considere a string A = \"Os limites só existem se você os deixar existir.(goku)\". \n",
        "\n",
        "Que fatia corresponde a (goku)?"
      ]
    },
    {
      "cell_type": "code",
      "metadata": {
        "colab": {
          "base_uri": "https://localhost:8080/",
          "height": 52
        },
        "id": "w9lyUUj04clK",
        "outputId": "97e13646-500c-4556-e39a-f73c9c4d1c6a"
      },
      "source": [
        "A = \"Os limites só existem se você os deixar existir.(goku)\"\n",
        "print(len(A))\n",
        "A[48:54]"
      ],
      "execution_count": null,
      "outputs": [
        {
          "output_type": "stream",
          "text": [
            "54\n"
          ],
          "name": "stdout"
        },
        {
          "output_type": "execute_result",
          "data": {
            "application/vnd.google.colaboratory.intrinsic+json": {
              "type": "string"
            },
            "text/plain": [
              "'(goku)'"
            ]
          },
          "metadata": {
            "tags": []
          },
          "execution_count": 31
        }
      ]
    },
    {
      "cell_type": "markdown",
      "metadata": {
        "id": "u5xxsKKR6S76"
      },
      "source": [
        "# **Exercício 2**\n",
        "\n",
        "Escreva um programa que solicite uma frase ao usuário e escreva a frase toda em maiúscula e sem espaços em branco."
      ]
    },
    {
      "cell_type": "code",
      "metadata": {
        "colab": {
          "base_uri": "https://localhost:8080/"
        },
        "id": "uvtVOOLy6qV8",
        "outputId": "61a44c5a-3ae4-4cf4-8fd0-95d08a6d06e8"
      },
      "source": [
        "frase = input(\"Digite uma frase: \")\n",
        "frase_sem_espaços = frase.replace(' ','')\n",
        "frase_maiuscula = frase_sem_espaços.upper()\n",
        "print(frase_maiuscula)"
      ],
      "execution_count": null,
      "outputs": [
        {
          "output_type": "stream",
          "text": [
            "Digite uma frase: Duda é linda\n",
            "DUDAÉLINDA\n"
          ],
          "name": "stdout"
        }
      ]
    }
  ]
}